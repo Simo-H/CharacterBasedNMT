{
 "cells": [
  {
   "metadata": {},
   "cell_type": "code",
   "outputs": [],
   "execution_count": null,
   "source": "# !unzip html2json.zip",
   "id": "134eb67770a28698"
  },
  {
   "metadata": {
    "ExecuteTime": {
     "end_time": "2024-09-23T20:53:00.956726Z",
     "start_time": "2024-09-23T20:52:58.312301Z"
    }
   },
   "cell_type": "code",
   "source": [
    "import torch\n",
    "from torch import nn\n",
    "from functools import partial\n",
    "from html2json import HTML_JSON_Dataset, padding_collate_fn\n",
    "from torch.utils.data import DataLoader, random_split\n",
    "from html2json.charactertokenizer import HTMLTokenizer, JSONTokenizer\n",
    "from html2json.charactertokenizer import MASK_TOKEN\n",
    "from html2json import load_data\n",
    "from html2json.seq2seq import Seq2SeqTransformer\n",
    "from html2json.seq2seq import translate\n",
    "from html2json.training import train_epoch, evaluate\n",
    "from timeit import default_timer as timer"
   ],
   "id": "ff21eea0a43f3d6b",
   "outputs": [],
   "execution_count": 2
  },
  {
   "metadata": {
    "ExecuteTime": {
     "end_time": "2024-09-23T20:53:02.326564Z",
     "start_time": "2024-09-23T20:53:02.305692Z"
    }
   },
   "cell_type": "code",
   "source": [
    "torch.cuda.empty_cache()\n",
    "torch.cuda.is_available()"
   ],
   "id": "f27c7203cdf39396",
   "outputs": [
    {
     "data": {
      "text/plain": [
       "True"
      ]
     },
     "execution_count": 3,
     "metadata": {},
     "output_type": "execute_result"
    }
   ],
   "execution_count": 3
  },
  {
   "metadata": {
    "ExecuteTime": {
     "end_time": "2024-09-23T20:53:03.021566Z",
     "start_time": "2024-09-23T20:53:03.017026Z"
    }
   },
   "cell_type": "code",
   "source": "DEVICE = torch.device('cuda' if torch.cuda.is_available() else 'cpu')",
   "id": "f38bc17518fbb5d4",
   "outputs": [],
   "execution_count": 4
  },
  {
   "metadata": {
    "ExecuteTime": {
     "end_time": "2024-09-23T20:53:04.005895Z",
     "start_time": "2024-09-23T20:53:03.989788Z"
    }
   },
   "cell_type": "code",
   "source": [
    "html_pth = 'generated_tables/tables'\n",
    "json_pth = 'generated_tables/metadata'"
   ],
   "id": "40ec41887aaeb374",
   "outputs": [],
   "execution_count": 5
  },
  {
   "metadata": {
    "ExecuteTime": {
     "end_time": "2024-09-23T20:53:05.327305Z",
     "start_time": "2024-09-23T20:53:05.142149Z"
    }
   },
   "cell_type": "code",
   "source": "html_data, json_data = load_data(html_pth, json_pth, as_string=False, limit=50)",
   "id": "eadff2aae180f018",
   "outputs": [],
   "execution_count": 6
  },
  {
   "metadata": {
    "ExecuteTime": {
     "end_time": "2024-09-23T20:53:05.830509Z",
     "start_time": "2024-09-23T20:53:05.811963Z"
    }
   },
   "cell_type": "code",
   "source": [
    "html_tokenizer = HTMLTokenizer(html_data)\n",
    "json_tokenizer = JSONTokenizer(json_data)"
   ],
   "id": "d740f15ffbbb11a0",
   "outputs": [
    {
     "name": "stderr",
     "output_type": "stream",
     "text": [
      "C:\\Workspace\\CharacterBasedNMT\\.venv\\Lib\\site-packages\\transformers\\tokenization_utils_base.py:1601: FutureWarning: `clean_up_tokenization_spaces` was not set. It will be set to `True` by default. This behavior will be depracted in transformers v4.45, and will be then set to `False` by default. For more details check this issue: https://github.com/huggingface/transformers/issues/31884\n",
      "  warnings.warn(\n"
     ]
    }
   ],
   "execution_count": 7
  },
  {
   "metadata": {
    "ExecuteTime": {
     "end_time": "2024-09-23T20:53:07.374241Z",
     "start_time": "2024-09-23T20:53:07.363302Z"
    }
   },
   "cell_type": "code",
   "source": "MASK_TOKEN",
   "id": "eb85fee38bc52bf9",
   "outputs": [
    {
     "data": {
      "text/plain": [
       "3"
      ]
     },
     "execution_count": 8,
     "metadata": {},
     "output_type": "execute_result"
    }
   ],
   "execution_count": 8
  },
  {
   "metadata": {
    "ExecuteTime": {
     "end_time": "2024-09-23T20:53:09.231377Z",
     "start_time": "2024-09-23T20:53:08.961006Z"
    }
   },
   "cell_type": "code",
   "source": [
    "collate_fn = partial(padding_collate_fn, pad_token_html = MASK_TOKEN, pad_token_json = MASK_TOKEN)\n",
    "html_data_str, json_data_str = load_data(html_pth, json_pth, as_string=True, limit=50)\n",
    "h2j_dataset = HTML_JSON_Dataset([html_tokenizer.encode(h) for h in html_data_str], [json_tokenizer.encode(j) for j in json_data_str])\n",
    "train_set, val_set = random_split(h2j_dataset, [0.8, 0.2])"
   ],
   "id": "6a1c156d4f2754cd",
   "outputs": [],
   "execution_count": 9
  },
  {
   "metadata": {
    "ExecuteTime": {
     "end_time": "2024-09-23T20:53:11.391660Z",
     "start_time": "2024-09-23T20:53:10.398558Z"
    }
   },
   "cell_type": "code",
   "source": [
    "torch.manual_seed(0)\n",
    "SRC_VOCAB_SIZE = len(html_tokenizer)\n",
    "TGT_VOCAB_SIZE = len(json_tokenizer)\n",
    "EMB_SIZE = 256\n",
    "NHEAD = 8\n",
    "FFN_HID_DIM = 4096\n",
    "BATCH_SIZE = 32\n",
    "NUM_ENCODER_LAYERS = 1\n",
    "NUM_DECODER_LAYERS = 1\n",
    "LR = 0.001\n",
    "NUM_EPOCHS = 1\n",
    "\n",
    "torch.cuda.empty_cache()\n",
    "train_dataloader = DataLoader(train_set, batch_size=BATCH_SIZE, collate_fn=collate_fn)\n",
    "validation_dataloader = DataLoader(val_set, batch_size=BATCH_SIZE, collate_fn=collate_fn)\n",
    "\n",
    "transformer = Seq2SeqTransformer(NUM_ENCODER_LAYERS, NUM_DECODER_LAYERS, EMB_SIZE,\n",
    "                                 NHEAD, SRC_VOCAB_SIZE, TGT_VOCAB_SIZE, FFN_HID_DIM)\n",
    "\n",
    "for p in transformer.parameters():\n",
    "    if p.dim() > 1:\n",
    "        nn.init.xavier_uniform_(p)\n",
    "\n",
    "transformer = transformer.to(DEVICE)\n",
    "loss_fn = torch.nn.CrossEntropyLoss(ignore_index=MASK_TOKEN)\n",
    "optimizer = torch.optim.Adam(transformer.parameters(), lr=LR, betas=(0.9, 0.98), eps=1e-9)\n",
    "scheduler = torch.optim.lr_scheduler.ReduceLROnPlateau(optimizer, mode='min', factor=0.5, patience=10, threshold=0.01, threshold_mode='abs')"
   ],
   "id": "69aaf61fa198625",
   "outputs": [
    {
     "name": "stderr",
     "output_type": "stream",
     "text": [
      "C:\\Workspace\\CharacterBasedNMT\\.venv\\Lib\\site-packages\\torch\\nn\\modules\\transformer.py:307: UserWarning: enable_nested_tensor is True, but self.use_nested_tensor is False because encoder_layer.self_attn.batch_first was not True(use batch_first for better inference performance)\n",
      "  warnings.warn(f\"enable_nested_tensor is True, but self.use_nested_tensor is False because {why_not_sparsity_fast_path}\")\n"
     ]
    }
   ],
   "execution_count": 10
  },
  {
   "metadata": {
    "ExecuteTime": {
     "end_time": "2024-09-23T20:25:37.919981Z",
     "start_time": "2024-09-23T20:25:30.463761Z"
    }
   },
   "cell_type": "code",
   "source": [
    "# with profile(activities=[\n",
    "        # ProfilerActivity.CPU, ProfilerActivity.CUDA], record_shapes=True, profile_memory=True) as prof:\n",
    "for epoch in range(1, NUM_EPOCHS+1):\n",
    "    start_time = timer()\n",
    "    transformer.train()\n",
    "    train_loss = train_epoch(transformer, optimizer, train_dataloader, loss_fn)\n",
    "    end_time = timer()\n",
    "    scheduler.step(train_loss)\n",
    "    # evaluation\n",
    "    transformer.eval()\n",
    "    val_loss = evaluate(transformer, validation_dataloader, loss_fn)\n",
    "    # add save model checkpoint every 20 epochs\n",
    "    if epoch % 5 == 0:\n",
    "        torch.save({\n",
    "                'epoch': epoch,\n",
    "                'model_state_dict': transformer.state_dict(),\n",
    "                'optimizer_state_dict': optimizer.state_dict(),\n",
    "                'loss': train_loss,\n",
    "                }, f\"./checkpoints/checkpoint_{epoch}.pt\")\n",
    "    # val_loss = evaluate(transformer)\n",
    "    \n",
    "    print((f\"Epoch: {epoch}, Train loss: {train_loss:.3f}, Val loss: {val_loss:.3f}, \"f\"Epoch time = {(end_time - start_time):.3f}s, lr: {scheduler.get_last_lr()}\"))\n",
    "# save the model after training\n",
    "torch.save(transformer.state_dict(), \"./assets/transformer.pt\")"
   ],
   "id": "ad6623919ae0f9a8",
   "outputs": [
    {
     "name": "stderr",
     "output_type": "stream",
     "text": [
      "C:\\Workspace\\CharacterBasedNMT\\.venv\\Lib\\site-packages\\torch\\nn\\functional.py:5193: UserWarning: Support for mismatched key_padding_mask and attn_mask is deprecated. Use same type for both instead.\n",
      "  warnings.warn(\n"
     ]
    },
    {
     "name": "stdout",
     "output_type": "stream",
     "text": [
      "Epoch: 1, Train loss: 4.788, Val loss: 4.303, Epoch time = 7.219s, lr: [0.001]\n"
     ]
    }
   ],
   "execution_count": 14
  },
  {
   "metadata": {
    "ExecuteTime": {
     "end_time": "2024-09-23T22:33:16.436203Z",
     "start_time": "2024-09-23T22:33:16.284847Z"
    }
   },
   "cell_type": "code",
   "source": [
    "model = Seq2SeqTransformer(NUM_ENCODER_LAYERS, NUM_DECODER_LAYERS, EMB_SIZE,\n",
    "                                 NHEAD, 97, 99, FFN_HID_DIM).to(DEVICE)\n",
    "model.load_state_dict(torch.load(\"./assets/transformer.pt\"))"
   ],
   "id": "d03d968013f95c5c",
   "outputs": [
    {
     "name": "stderr",
     "output_type": "stream",
     "text": [
      "C:\\Users\\Simo\\AppData\\Local\\Temp\\ipykernel_13140\\3953740119.py:3: FutureWarning: You are using `torch.load` with `weights_only=False` (the current default value), which uses the default pickle module implicitly. It is possible to construct malicious pickle data which will execute arbitrary code during unpickling (See https://github.com/pytorch/pytorch/blob/main/SECURITY.md#untrusted-models for more details). In a future release, the default value for `weights_only` will be flipped to `True`. This limits the functions that could be executed during unpickling. Arbitrary objects will no longer be allowed to be loaded via this mode unless they are explicitly allowlisted by the user via `torch.serialization.add_safe_globals`. We recommend you start setting `weights_only=True` for any use case where you don't have full control of the loaded file. Please open an issue on GitHub for any issues related to this experimental feature.\n",
      "  model.load_state_dict(torch.load(\"./assets/transformer.pt\"))\n"
     ]
    },
    {
     "data": {
      "text/plain": [
       "<All keys matched successfully>"
      ]
     },
     "execution_count": 18,
     "metadata": {},
     "output_type": "execute_result"
    }
   ],
   "execution_count": 18
  },
  {
   "metadata": {
    "ExecuteTime": {
     "end_time": "2024-09-23T22:33:26.351656Z",
     "start_time": "2024-09-23T22:33:25.374600Z"
    }
   },
   "cell_type": "code",
   "source": "pred = translate(transformer, html_data_str[0], html_tokenizer, json_tokenizer)",
   "id": "8b7f5f3b7dc002a4",
   "outputs": [
    {
     "name": "stderr",
     "output_type": "stream",
     "text": [
      "C:\\Workspace\\CharacterBasedNMT\\.venv\\Lib\\site-packages\\torch\\nn\\functional.py:5560: UserWarning: 1Torch was not compiled with flash attention. (Triggered internally at C:\\actions-runner\\_work\\pytorch\\pytorch\\builder\\windows\\pytorch\\aten\\src\\ATen\\native\\transformers\\cuda\\sdp_utils.cpp:555.)\n",
      "  attn_output = scaled_dot_product_attention(q, k, v, attn_mask, dropout_p, is_causal)\n"
     ]
    }
   ],
   "execution_count": 19
  },
  {
   "metadata": {
    "ExecuteTime": {
     "end_time": "2024-09-23T22:33:27.899351Z",
     "start_time": "2024-09-23T22:33:27.893595Z"
    }
   },
   "cell_type": "code",
   "source": "json_data_str[0]",
   "id": "2a68e0cb6da7e719",
   "outputs": [
    {
     "data": {
      "text/plain": [
       "'[{][\"body\"][:][{][\"content\"][:][[]\"1060\"[,]\"37\"[,]\"1593\"[,]\"1364\"[]][,][\"headers\"][:][{][\"col\"][:][[]\"Roberts LLC\"[]][,][\"row\"][:][[]\"Daniel Brown\"[,]\"Shane Barnes DDS\"[,]\"Nicole Carpenter\"[,]\"Kristin Duarte\"[,]\"programmer\"[,]\"Carpenter\"[,]\"singer\"[,]\"actor\"[]][}][}][,][\"footer\"][:][{][\"table_creation_date:\"][:]\"3Feb2013\"[,][\"text\"][:]\"modified: 5Feb2013\\\\nCreation: 3Feb2013 Chad\"[}][,][\"header\"][:][{][\"table_id\"][:]\"59.99.9.62\"[,][\"text\"][:]\"Table 59.99.9.62 Loss adjuster, chartered\"[}][}]'"
      ]
     },
     "execution_count": 20,
     "metadata": {},
     "output_type": "execute_result"
    }
   ],
   "execution_count": 20
  },
  {
   "metadata": {
    "ExecuteTime": {
     "end_time": "2024-09-23T22:33:31.182310Z",
     "start_time": "2024-09-23T22:33:31.164281Z"
    }
   },
   "cell_type": "code",
   "source": "pred",
   "id": "4679ba9464bc240d",
   "outputs": [
    {
     "data": {
      "text/plain": [
       "'[CLS]J3FFFFFDQ33FFFFFKB40[\"row\"]qFS3VFS3VFFFFS3FS3FS3VFS3FKB40FFFFFFF[,]F[,]FFFFK[\"table_id\"]/2u: :v3FK[\"table_id\"]J3FK[\"row\"]qFS3FS3FS3FKB4: : : :[,]FS\\n:[,]R[,]FS\\n:P:S3FS3\\n:P:S33VFS\\n:VFS3FS\\nz:S\\npJ36[\"row\"]qw3\\ndMz:V[\"table_creation_date:\"]pg\\n45bFS\\ndM[\"table_creation_date:\"]\\ndM[\"table_creation_date:\"]VFS\\ndM[\"table_creation_date:\"][\"table_creation_date:\"][\"table_creation_date:\"]V[\"table_creation_date:\"]V[\"table_creation_date:\"][\"table_creation_date:\"][\"table_creation_date:\"][\"table_creation_date:\"]pgf[,]vzW[\"table_creation_date:\"]D[\"table_creation_date:\"]D[\"table_creation_date:\"]D[\"table_creation_date:\"]D[\"table_creation_date:\"]VFK[\"table_id\"]/fsFS\\ndMz:VFD2[SEP]'"
      ]
     },
     "execution_count": 21,
     "metadata": {},
     "output_type": "execute_result"
    }
   ],
   "execution_count": 21
  },
  {
   "metadata": {
    "ExecuteTime": {
     "end_time": "2024-09-23T22:33:31.930494Z",
     "start_time": "2024-09-23T22:33:31.925393Z"
    }
   },
   "cell_type": "code",
   "source": "pred[-5:5] == json_data_str[0]",
   "id": "6ff7f7c86c843ec",
   "outputs": [
    {
     "data": {
      "text/plain": [
       "False"
      ]
     },
     "execution_count": 22,
     "metadata": {},
     "output_type": "execute_result"
    }
   ],
   "execution_count": 22
  },
  {
   "metadata": {},
   "cell_type": "code",
   "outputs": [],
   "execution_count": null,
   "source": "",
   "id": "841bcc7f6629f9d5"
  }
 ],
 "metadata": {
  "kernelspec": {
   "display_name": "Python 3",
   "language": "python",
   "name": "python3"
  },
  "language_info": {
   "codemirror_mode": {
    "name": "ipython",
    "version": 2
   },
   "file_extension": ".py",
   "mimetype": "text/x-python",
   "name": "python",
   "nbconvert_exporter": "python",
   "pygments_lexer": "ipython2",
   "version": "2.7.6"
  }
 },
 "nbformat": 4,
 "nbformat_minor": 5
}
