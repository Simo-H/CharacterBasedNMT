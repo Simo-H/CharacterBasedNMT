{
 "cells": [
  {
   "metadata": {},
   "cell_type": "code",
   "outputs": [],
   "execution_count": null,
   "source": "# !unzip html2json.zip",
   "id": "134eb67770a28698"
  },
  {
   "metadata": {
    "ExecuteTime": {
     "end_time": "2024-09-27T19:49:57.183658Z",
     "start_time": "2024-09-27T19:49:52.179589Z"
    }
   },
   "cell_type": "code",
   "source": [
    "import torch\n",
    "from torch import nn\n",
    "from functools import partial\n",
    "from html2json import HTML_JSON_Dataset, padding_collate_fn\n",
    "from torch.utils.data import DataLoader, random_split\n",
    "from html2json.charactertokenizer import HTMLTokenizer, JSONTokenizer\n",
    "from html2json.charactertokenizer import MASK_TOKEN\n",
    "from html2json import load_data\n",
    "from html2json.seq2seq import Seq2SeqTransformer\n",
    "from html2json.seq2seq import translate\n",
    "from html2json.training import train_epoch, evaluate\n",
    "from timeit import default_timer as timer\n",
    "import os"
   ],
   "id": "ff21eea0a43f3d6b",
   "outputs": [],
   "execution_count": 1
  },
  {
   "metadata": {
    "ExecuteTime": {
     "end_time": "2024-09-27T19:50:00.687437Z",
     "start_time": "2024-09-27T19:50:00.675082Z"
    }
   },
   "cell_type": "code",
   "source": [
    "torch.cuda.empty_cache()\n",
    "torch.cuda.is_available()"
   ],
   "id": "f27c7203cdf39396",
   "outputs": [
    {
     "data": {
      "text/plain": [
       "True"
      ]
     },
     "execution_count": 2,
     "metadata": {},
     "output_type": "execute_result"
    }
   ],
   "execution_count": 2
  },
  {
   "metadata": {
    "ExecuteTime": {
     "end_time": "2024-09-27T19:50:01.760240Z",
     "start_time": "2024-09-27T19:50:01.755578Z"
    }
   },
   "cell_type": "code",
   "source": "DEVICE = torch.device('cuda' if torch.cuda.is_available() else 'cpu')",
   "id": "f38bc17518fbb5d4",
   "outputs": [],
   "execution_count": 3
  },
  {
   "metadata": {
    "ExecuteTime": {
     "end_time": "2024-09-27T19:50:02.775181Z",
     "start_time": "2024-09-27T19:50:02.770570Z"
    }
   },
   "cell_type": "code",
   "source": [
    "html_pth = 'generated_tables/tables'\n",
    "json_pth = 'generated_tables/metadata'"
   ],
   "id": "40ec41887aaeb374",
   "outputs": [],
   "execution_count": 4
  },
  {
   "metadata": {
    "ExecuteTime": {
     "end_time": "2024-09-27T19:51:52.574044Z",
     "start_time": "2024-09-27T19:50:03.816247Z"
    }
   },
   "cell_type": "code",
   "source": "html_data, json_data = load_data(html_pth, json_pth, as_string=False, limit=None)",
   "id": "eadff2aae180f018",
   "outputs": [],
   "execution_count": 5
  },
  {
   "metadata": {
    "ExecuteTime": {
     "end_time": "2024-09-27T19:51:56.667253Z",
     "start_time": "2024-09-27T19:51:52.576047Z"
    }
   },
   "cell_type": "code",
   "source": [
    "html_tokenizer = HTMLTokenizer(html_data)\n",
    "json_tokenizer = JSONTokenizer(json_data)"
   ],
   "id": "d740f15ffbbb11a0",
   "outputs": [
    {
     "name": "stderr",
     "output_type": "stream",
     "text": [
      "C:\\Workspace\\CharacterBasedNMT\\.venv\\Lib\\site-packages\\transformers\\tokenization_utils_base.py:1601: FutureWarning: `clean_up_tokenization_spaces` was not set. It will be set to `True` by default. This behavior will be depracted in transformers v4.45, and will be then set to `False` by default. For more details check this issue: https://github.com/huggingface/transformers/issues/31884\n",
      "  warnings.warn(\n"
     ]
    }
   ],
   "execution_count": 6
  },
  {
   "metadata": {
    "ExecuteTime": {
     "end_time": "2024-09-27T19:53:53.194795Z",
     "start_time": "2024-09-27T19:52:27.381166Z"
    }
   },
   "cell_type": "code",
   "source": [
    "collate_fn = partial(padding_collate_fn, pad_token_html = MASK_TOKEN, pad_token_json = MASK_TOKEN)\n",
    "html_data_str, json_data_str = load_data(html_pth, json_pth, as_string=True, limit=None)\n",
    "h2j_dataset = HTML_JSON_Dataset([html_tokenizer.encode(h) for h in html_data_str], [json_tokenizer.encode(j) for j in json_data_str])"
   ],
   "id": "52eb8b200e63227f",
   "outputs": [],
   "execution_count": 7
  },
  {
   "metadata": {
    "ExecuteTime": {
     "end_time": "2024-09-27T19:53:53.211360Z",
     "start_time": "2024-09-27T19:53:53.195803Z"
    }
   },
   "cell_type": "code",
   "source": "train_set, val_set = random_split(h2j_dataset, [0.8, 0.2], torch.Generator().manual_seed(42))",
   "id": "853d8261ebf39768",
   "outputs": [],
   "execution_count": 8
  },
  {
   "metadata": {},
   "cell_type": "code",
   "outputs": [],
   "execution_count": null,
   "source": [
    "torch.manual_seed(42)\n",
    "SRC_VOCAB_SIZE = len(html_tokenizer)\n",
    "TGT_VOCAB_SIZE = len(json_tokenizer)\n",
    "EMB_SIZE = 256\n",
    "NHEAD = 8\n",
    "FFN_HID_DIM = 4096\n",
    "BATCH_SIZE = 32\n",
    "NUM_ENCODER_LAYERS = 1\n",
    "NUM_DECODER_LAYERS = 1\n",
    "LR = 0.001\n",
    "NUM_EPOCHS = 25\n",
    "\n",
    "torch.cuda.empty_cache()\n",
    "train_dataloader = DataLoader(train_set, batch_size=BATCH_SIZE, collate_fn=collate_fn)\n",
    "validation_dataloader = DataLoader(val_set, batch_size=BATCH_SIZE, collate_fn=collate_fn)"
   ],
   "id": "78977f2811f48ab9"
  },
  {
   "metadata": {},
   "cell_type": "code",
   "outputs": [],
   "execution_count": null,
   "source": [
    "transformer = Seq2SeqTransformer(NUM_ENCODER_LAYERS, NUM_DECODER_LAYERS, EMB_SIZE,\n",
    "                                 NHEAD, SRC_VOCAB_SIZE, TGT_VOCAB_SIZE, FFN_HID_DIM)\n",
    "\n",
    "if os.path.exists(\"./assets/transformer.pt\"):\n",
    "    transformer.load_state_dict(torch.load(\"./assets/transformer.pt\", map_location=torch.device(DEVICE)))\n",
    "else:\n",
    "    for p in transformer.parameters():\n",
    "        if p.dim() > 1:\n",
    "            nn.init.xavier_uniform_(p)\n",
    "transformer = transformer.to(DEVICE)"
   ],
   "id": "5206e669a57e2f8d"
  },
  {
   "metadata": {},
   "cell_type": "code",
   "outputs": [],
   "execution_count": null,
   "source": [
    "loss_fn = torch.nn.CrossEntropyLoss(ignore_index=MASK_TOKEN)\n",
    "optimizer = torch.optim.Adam(transformer.parameters(), lr=LR, betas=(0.9, 0.98), eps=1e-9)\n",
    "scheduler = torch.optim.lr_scheduler.ReduceLROnPlateau(optimizer, mode='min', factor=0.1, patience=2, threshold=0.1, threshold_mode='rel')"
   ],
   "id": "e2791521a34708e"
  },
  {
   "metadata": {
    "ExecuteTime": {
     "end_time": "2024-09-23T20:25:37.919981Z",
     "start_time": "2024-09-23T20:25:30.463761Z"
    }
   },
   "cell_type": "code",
   "source": [
    "for epoch in range(1, NUM_EPOCHS+1):\n",
    "    start_time = timer()\n",
    "    transformer.train()\n",
    "    train_loss = train_epoch(transformer, optimizer, train_dataloader, loss_fn)\n",
    "    end_time = timer()\n",
    "    scheduler.step(train_loss)\n",
    "    # evaluation\n",
    "    transformer.eval()\n",
    "    val_loss = evaluate(transformer, validation_dataloader, loss_fn)\n",
    "    # add save model checkpoint every 20 epochs\n",
    "    if epoch % 5 == 0:\n",
    "        torch.save({\n",
    "                'epoch': epoch,\n",
    "                'model_state_dict': transformer.state_dict(),\n",
    "                'optimizer_state_dict': optimizer.state_dict(),\n",
    "                'loss': train_loss,\n",
    "                }, f\"./checkpoints/checkpoint_{epoch}.pt\")\n",
    "    # val_loss = evaluate(transformer)\n",
    "    \n",
    "    print(f\"Epoch: {epoch}, Train loss: {train_loss:.3f}, Val loss: {val_loss:.3f}, \"f\"Epoch time = {(end_time - start_time):.3f}s, lr: {scheduler.get_last_lr()}\")\n",
    "# save the model after training\n",
    "torch.save(transformer.state_dict(), \"./assets/transformer.pt\")"
   ],
   "id": "ad6623919ae0f9a8",
   "outputs": [
    {
     "name": "stderr",
     "output_type": "stream",
     "text": [
      "C:\\Workspace\\CharacterBasedNMT\\.venv\\Lib\\site-packages\\torch\\nn\\functional.py:5193: UserWarning: Support for mismatched key_padding_mask and attn_mask is deprecated. Use same type for both instead.\n",
      "  warnings.warn(\n"
     ]
    },
    {
     "name": "stdout",
     "output_type": "stream",
     "text": [
      "Epoch: 1, Train loss: 4.788, Val loss: 4.303, Epoch time = 7.219s, lr: [0.001]\n"
     ]
    }
   ],
   "execution_count": 14
  },
  {
   "metadata": {},
   "cell_type": "code",
   "outputs": [],
   "execution_count": null,
   "source": "_, val_str_set = random_split(json_data_str, [0.8, 0.2], torch.Generator().manual_seed(42))",
   "id": "16c31b16364b95ce"
  },
  {
   "metadata": {},
   "cell_type": "code",
   "outputs": [],
   "execution_count": null,
   "source": "val_idx = val_str_set[3]",
   "id": "6e21b4f99e1e6af6"
  },
  {
   "metadata": {
    "ExecuteTime": {
     "end_time": "2024-09-23T22:33:26.351656Z",
     "start_time": "2024-09-23T22:33:25.374600Z"
    }
   },
   "cell_type": "code",
   "source": "pred = translate(transformer, html_data_str[val_idx], html_tokenizer, json_tokenizer)",
   "id": "8b7f5f3b7dc002a4",
   "outputs": [
    {
     "name": "stderr",
     "output_type": "stream",
     "text": [
      "C:\\Workspace\\CharacterBasedNMT\\.venv\\Lib\\site-packages\\torch\\nn\\functional.py:5560: UserWarning: 1Torch was not compiled with flash attention. (Triggered internally at C:\\actions-runner\\_work\\pytorch\\pytorch\\builder\\windows\\pytorch\\aten\\src\\ATen\\native\\transformers\\cuda\\sdp_utils.cpp:555.)\n",
      "  attn_output = scaled_dot_product_attention(q, k, v, attn_mask, dropout_p, is_causal)\n"
     ]
    }
   ],
   "execution_count": 19
  },
  {
   "metadata": {
    "ExecuteTime": {
     "end_time": "2024-09-23T22:33:27.899351Z",
     "start_time": "2024-09-23T22:33:27.893595Z"
    }
   },
   "cell_type": "code",
   "source": "json_data_str[val_idx]",
   "id": "2a68e0cb6da7e719",
   "outputs": [
    {
     "data": {
      "text/plain": [
       "'[{][\"body\"][:][{][\"content\"][:][[]\"1060\"[,]\"37\"[,]\"1593\"[,]\"1364\"[]][,][\"headers\"][:][{][\"col\"][:][[]\"Roberts LLC\"[]][,][\"row\"][:][[]\"Daniel Brown\"[,]\"Shane Barnes DDS\"[,]\"Nicole Carpenter\"[,]\"Kristin Duarte\"[,]\"programmer\"[,]\"Carpenter\"[,]\"singer\"[,]\"actor\"[]][}][}][,][\"footer\"][:][{][\"table_creation_date:\"][:]\"3Feb2013\"[,][\"text\"][:]\"modified: 5Feb2013\\\\nCreation: 3Feb2013 Chad\"[}][,][\"header\"][:][{][\"table_id\"][:]\"59.99.9.62\"[,][\"text\"][:]\"Table 59.99.9.62 Loss adjuster, chartered\"[}][}]'"
      ]
     },
     "execution_count": 20,
     "metadata": {},
     "output_type": "execute_result"
    }
   ],
   "execution_count": 20
  },
  {
   "metadata": {
    "ExecuteTime": {
     "end_time": "2024-09-23T22:33:31.182310Z",
     "start_time": "2024-09-23T22:33:31.164281Z"
    }
   },
   "cell_type": "code",
   "source": "pred[5:-5]",
   "id": "4679ba9464bc240d",
   "outputs": [
    {
     "data": {
      "text/plain": [
       "'[CLS]J3FFFFFDQ33FFFFFKB40[\"row\"]qFS3VFS3VFFFFS3FS3FS3VFS3FKB40FFFFFFF[,]F[,]FFFFK[\"table_id\"]/2u: :v3FK[\"table_id\"]J3FK[\"row\"]qFS3FS3FS3FKB4: : : :[,]FS\\n:[,]R[,]FS\\n:P:S3FS3\\n:P:S33VFS\\n:VFS3FS\\nz:S\\npJ36[\"row\"]qw3\\ndMz:V[\"table_creation_date:\"]pg\\n45bFS\\ndM[\"table_creation_date:\"]\\ndM[\"table_creation_date:\"]VFS\\ndM[\"table_creation_date:\"][\"table_creation_date:\"][\"table_creation_date:\"]V[\"table_creation_date:\"]V[\"table_creation_date:\"][\"table_creation_date:\"][\"table_creation_date:\"][\"table_creation_date:\"]pgf[,]vzW[\"table_creation_date:\"]D[\"table_creation_date:\"]D[\"table_creation_date:\"]D[\"table_creation_date:\"]D[\"table_creation_date:\"]VFK[\"table_id\"]/fsFS\\ndMz:VFD2[SEP]'"
      ]
     },
     "execution_count": 21,
     "metadata": {},
     "output_type": "execute_result"
    }
   ],
   "execution_count": 21
  },
  {
   "metadata": {
    "ExecuteTime": {
     "end_time": "2024-09-23T22:33:31.930494Z",
     "start_time": "2024-09-23T22:33:31.925393Z"
    }
   },
   "cell_type": "code",
   "source": "pred[5:-5] == json_data_str[val_idx]",
   "id": "6ff7f7c86c843ec",
   "outputs": [
    {
     "data": {
      "text/plain": [
       "False"
      ]
     },
     "execution_count": 22,
     "metadata": {},
     "output_type": "execute_result"
    }
   ],
   "execution_count": 22
  }
 ],
 "metadata": {
  "kernelspec": {
   "display_name": "Python 3",
   "language": "python",
   "name": "python3"
  },
  "language_info": {
   "codemirror_mode": {
    "name": "ipython",
    "version": 2
   },
   "file_extension": ".py",
   "mimetype": "text/x-python",
   "name": "python",
   "nbconvert_exporter": "python",
   "pygments_lexer": "ipython2",
   "version": "2.7.6"
  }
 },
 "nbformat": 4,
 "nbformat_minor": 5
}
