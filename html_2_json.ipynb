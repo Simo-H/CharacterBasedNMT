{
 "cells": [
  {
   "metadata": {},
   "cell_type": "markdown",
   "source": "# Character Based NMT - Data Based Translation of HTML Tables to JSON objects",
   "id": "72d6fc8de551389a"
  },
  {
   "metadata": {},
   "cell_type": "markdown",
   "source": [
    "## Notebook Setup\n",
    "The easy way to run this is to use Google Colab. You can run this notebook by uploading it to Google Colab and running it there. You can also run this notebook locally by installing the required libraries from the requirements.txt file.\n",
    "\n",
    "If you decided to run this notebook with Google Colab upload the `html2json.zip` file to the runtime and unzip it using the next commented out cell.\n",
    "Alongside the file project it will also unzip the html and json data files.\n",
    "\n",
    "If you decided to run this notebook locally, you can skip the next cell."
   ],
   "id": "88142f9af33a014e"
  },
  {
   "metadata": {
    "ExecuteTime": {
     "end_time": "2024-09-28T20:18:14.575497Z",
     "start_time": "2024-09-28T20:18:14.567669Z"
    }
   },
   "cell_type": "code",
   "source": [
    "### Uncomment this cell if you are running this notebook on Google Colab\n",
    "# !unzip html2json.zip\n",
    "# !pip install evaluate"
   ],
   "id": "134eb67770a28698",
   "outputs": [],
   "execution_count": 26
  },
  {
   "metadata": {},
   "cell_type": "code",
   "outputs": [],
   "execution_count": null,
   "source": [
    "### Uncomment this cell if you are running this notebook locally\n",
    "# !unzip dataset.zip"
   ],
   "id": "9d268524be6f2499"
  },
  {
   "metadata": {},
   "cell_type": "markdown",
   "source": "### Importing Required Libraries",
   "id": "6c82c78903fe10ec"
  },
  {
   "metadata": {
    "id": "ff21eea0a43f3d6b",
    "ExecuteTime": {
     "end_time": "2024-09-28T19:04:17.820630Z",
     "start_time": "2024-09-28T19:04:13.041774Z"
    }
   },
   "cell_type": "code",
   "source": [
    "import torch\n",
    "from torch import nn\n",
    "from functools import partial\n",
    "from html2json import HTML_JSON_Dataset, padding_collate_fn\n",
    "from torch.utils.data import DataLoader, random_split\n",
    "from html2json.charactertokenizer import HTMLTokenizer, JSONTokenizer\n",
    "from html2json.charactertokenizer import MASK_TOKEN\n",
    "from html2json import load_data, reverse_tokenized_json\n",
    "from html2json.seq2seq import Seq2SeqTransformer\n",
    "from html2json.seq2seq import translate_greedy_search, translate_beam_search\n",
    "from html2json.training import train_epoch, evaluate\n",
    "from timeit import default_timer as timer\n",
    "from evaluate import load\n",
    "import os"
   ],
   "id": "ff21eea0a43f3d6b",
   "outputs": [],
   "execution_count": 1
  },
  {
   "metadata": {},
   "cell_type": "markdown",
   "source": "### CUDA Availablity",
   "id": "44d9285cfb8ebdac"
  },
  {
   "metadata": {
    "colab": {
     "base_uri": "https://localhost:8080/"
    },
    "id": "f27c7203cdf39396",
    "outputId": "60878052-365d-4f35-9ba2-a08d69fc3bf8",
    "ExecuteTime": {
     "end_time": "2024-09-28T20:33:34.776274Z",
     "start_time": "2024-09-28T20:33:34.760269Z"
    }
   },
   "cell_type": "code",
   "source": [
    "torch.cuda.empty_cache()\n",
    "torch.cuda.is_available()"
   ],
   "id": "f27c7203cdf39396",
   "outputs": [
    {
     "data": {
      "text/plain": [
       "True"
      ]
     },
     "execution_count": 27,
     "metadata": {},
     "output_type": "execute_result"
    }
   ],
   "execution_count": 27
  },
  {
   "metadata": {
    "id": "f38bc17518fbb5d4",
    "ExecuteTime": {
     "end_time": "2024-09-28T19:04:17.837386Z",
     "start_time": "2024-09-28T19:04:17.833310Z"
    }
   },
   "cell_type": "code",
   "source": [
    "# Set the device to GPU if available\n",
    "DEVICE = torch.device('cuda' if torch.cuda.is_available() else 'cpu')"
   ],
   "id": "f38bc17518fbb5d4",
   "outputs": [],
   "execution_count": 3
  },
  {
   "metadata": {
    "id": "40ec41887aaeb374",
    "ExecuteTime": {
     "end_time": "2024-09-28T19:04:17.843424Z",
     "start_time": "2024-09-28T19:04:17.839617Z"
    }
   },
   "cell_type": "code",
   "source": [
    "# Setting the paths for the HTML and JSON data directories\n",
    "html_pth = 'generated_tables/tables'\n",
    "json_pth = 'generated_tables/metadata'"
   ],
   "id": "40ec41887aaeb374",
   "outputs": [],
   "execution_count": 4
  },
  {
   "metadata": {},
   "cell_type": "markdown",
   "source": "## Data Loading and Preprocessing",
   "id": "df418f157d3ce4dc"
  },
  {
   "metadata": {
    "id": "eadff2aae180f018",
    "ExecuteTime": {
     "end_time": "2024-09-28T19:05:38.714818Z",
     "start_time": "2024-09-28T19:04:17.844432Z"
    }
   },
   "cell_type": "code",
   "source": [
    "# data loading\n",
    "html_data, json_data = load_data(html_pth, json_pth, as_string=False, limit=None)"
   ],
   "id": "eadff2aae180f018",
   "outputs": [],
   "execution_count": 5
  },
  {
   "metadata": {
    "colab": {
     "base_uri": "https://localhost:8080/"
    },
    "id": "d740f15ffbbb11a0",
    "outputId": "d5eb0db5-ef82-493f-e20a-d663ea8704b5",
    "ExecuteTime": {
     "end_time": "2024-09-28T19:05:38.721255Z",
     "start_time": "2024-09-28T19:05:38.716111Z"
    }
   },
   "cell_type": "code",
   "source": [
    "# Building the tokenizers\n",
    "if os.path.exists(\"./assets/html_tokenizer.pkl\"):\n",
    "    print(\"Loading HTML tokenizer\")\n",
    "    html_tokenizer = HTMLTokenizer.load(\"./assets/html_tokenizer.pkl\")\n",
    "else:\n",
    "    html_tokenizer = HTMLTokenizer(html_data)\n",
    "    html_tokenizer.save(\"./assets/html_tokenizer.pkl\")\n",
    "if os.path.exists(\"./assets/json_tokenizer.pkl\"):\n",
    "    print(\"Loading JSON tokenizer\")\n",
    "    json_tokenizer = JSONTokenizer.load(\"./assets/json_tokenizer.pkl\")\n",
    "else:\n",
    "    json_tokenizer = JSONTokenizer(json_data)\n",
    "    json_tokenizer.save(\"./assets/json_tokenizer.pkl\")"
   ],
   "id": "d740f15ffbbb11a0",
   "outputs": [
    {
     "name": "stdout",
     "output_type": "stream",
     "text": [
      "Loading HTML tokenizer\n",
      "Loading JSON tokenizer\n"
     ]
    }
   ],
   "execution_count": 6
  },
  {
   "metadata": {
    "id": "52eb8b200e63227f",
    "ExecuteTime": {
     "end_time": "2024-09-28T19:07:00.742690Z",
     "start_time": "2024-09-28T19:05:38.722260Z"
    }
   },
   "cell_type": "code",
   "source": [
    "# Loading data as strings, tokenizing and creating the dataset\n",
    "collate_fn = partial(padding_collate_fn, pad_token_html = MASK_TOKEN, pad_token_json = MASK_TOKEN)\n",
    "html_data_str, json_data_str = load_data(html_pth, json_pth, as_string=True, limit=None)\n",
    "h2j_dataset = HTML_JSON_Dataset([html_tokenizer.encode(h) for h in html_data_str], [json_tokenizer.encode(j) for j in json_data_str])"
   ],
   "id": "52eb8b200e63227f",
   "outputs": [],
   "execution_count": 7
  },
  {
   "metadata": {
    "id": "853d8261ebf39768",
    "ExecuteTime": {
     "end_time": "2024-09-28T19:07:00.749161Z",
     "start_time": "2024-09-28T19:07:00.742690Z"
    }
   },
   "cell_type": "code",
   "source": [
    "# Splitting the dataset into training and validation sets\n",
    "train_set, val_set = random_split(h2j_dataset, [0.8, 0.2], torch.Generator().manual_seed(42))"
   ],
   "id": "853d8261ebf39768",
   "outputs": [],
   "execution_count": 8
  },
  {
   "metadata": {},
   "cell_type": "markdown",
   "source": "## Training the NMT seq2seq Model",
   "id": "17e69ccfba36f8a8"
  },
  {
   "metadata": {},
   "cell_type": "code",
   "outputs": [],
   "execution_count": null,
   "source": [
    "# Setting the hyperparameters for the model\n",
    "torch.manual_seed(42)\n",
    "SRC_VOCAB_SIZE = len(html_tokenizer)\n",
    "TGT_VOCAB_SIZE = len(json_tokenizer)\n",
    "EMB_SIZE = 256\n",
    "NHEAD = 8\n",
    "FFN_HID_DIM = 4096\n",
    "BATCH_SIZE = 32\n",
    "NUM_ENCODER_LAYERS = 1\n",
    "NUM_DECODER_LAYERS = 1\n",
    "LR = 0.001\n",
    "NUM_EPOCHS = 40"
   ],
   "id": "4f0247a505f87943"
  },
  {
   "metadata": {},
   "cell_type": "code",
   "outputs": [],
   "execution_count": null,
   "source": [
    "# Creating the dataloaders\n",
    "torch.cuda.empty_cache()\n",
    "train_dataloader = DataLoader(train_set, batch_size=BATCH_SIZE, collate_fn=collate_fn)\n",
    "validation_dataloader = DataLoader(val_set, batch_size=BATCH_SIZE, collate_fn=collate_fn)"
   ],
   "id": "3eb0e751743518da"
  },
  {
   "metadata": {
    "id": "5206e669a57e2f8d",
    "ExecuteTime": {
     "end_time": "2024-09-28T19:07:01.012700Z",
     "start_time": "2024-09-28T19:07:00.759364Z"
    }
   },
   "cell_type": "code",
   "source": [
    "# Creating the model and loading the pretrained model if available\n",
    "transformer = Seq2SeqTransformer(NUM_ENCODER_LAYERS, NUM_DECODER_LAYERS, EMB_SIZE,\n",
    "                                 NHEAD, SRC_VOCAB_SIZE, TGT_VOCAB_SIZE, FFN_HID_DIM)\n",
    "\n",
    "if os.path.exists(\"./assets/transformer.pt\"):\n",
    "    transformer.load_state_dict(torch.load(\"./assets/transformer.pt\", map_location=torch.device(DEVICE)))\n",
    "else:\n",
    "    for p in transformer.parameters():\n",
    "        if p.dim() > 1:\n",
    "            nn.init.xavier_uniform_(p)\n",
    "transformer = transformer.to(DEVICE)"
   ],
   "id": "5206e669a57e2f8d",
   "outputs": [
    {
     "name": "stderr",
     "output_type": "stream",
     "text": [
      "C:\\Workspace\\CharacterBasedNMT\\.venv\\Lib\\site-packages\\torch\\nn\\modules\\transformer.py:307: UserWarning: enable_nested_tensor is True, but self.use_nested_tensor is False because encoder_layer.self_attn.batch_first was not True(use batch_first for better inference performance)\n",
      "  warnings.warn(f\"enable_nested_tensor is True, but self.use_nested_tensor is False because {why_not_sparsity_fast_path}\")\n",
      "C:\\Users\\Simo\\AppData\\Local\\Temp\\ipykernel_37456\\3811585935.py:5: FutureWarning: You are using `torch.load` with `weights_only=False` (the current default value), which uses the default pickle module implicitly. It is possible to construct malicious pickle data which will execute arbitrary code during unpickling (See https://github.com/pytorch/pytorch/blob/main/SECURITY.md#untrusted-models for more details). In a future release, the default value for `weights_only` will be flipped to `True`. This limits the functions that could be executed during unpickling. Arbitrary objects will no longer be allowed to be loaded via this mode unless they are explicitly allowlisted by the user via `torch.serialization.add_safe_globals`. We recommend you start setting `weights_only=True` for any use case where you don't have full control of the loaded file. Please open an issue on GitHub for any issues related to this experimental feature.\n",
      "  transformer.load_state_dict(torch.load(\"./assets/transformer.pt\", map_location=torch.device(DEVICE)))\n"
     ]
    }
   ],
   "execution_count": 10
  },
  {
   "metadata": {
    "id": "e2791521a34708e",
    "ExecuteTime": {
     "end_time": "2024-09-28T19:07:01.018872Z",
     "start_time": "2024-09-28T19:07:01.012700Z"
    }
   },
   "cell_type": "code",
   "source": [
    "# Setting the loss function, optimizer and learning rate scheduler\n",
    "loss_fn = torch.nn.CrossEntropyLoss(ignore_index=MASK_TOKEN)\n",
    "optimizer = torch.optim.Adam(transformer.parameters(), lr=LR, betas=(0.9, 0.98), eps=1e-9)\n",
    "scheduler = torch.optim.lr_scheduler.ReduceLROnPlateau(optimizer, mode='min', factor=0.1, patience=2, threshold=0.1, threshold_mode='rel')"
   ],
   "id": "e2791521a34708e",
   "outputs": [],
   "execution_count": 11
  },
  {
   "metadata": {
    "ExecuteTime": {
     "end_time": "2024-09-23T20:25:37.919981Z",
     "start_time": "2024-09-23T20:25:30.463761Z"
    },
    "colab": {
     "base_uri": "https://localhost:8080/"
    },
    "id": "ad6623919ae0f9a8",
    "outputId": "4655cae7-bb56-47d6-903f-2d1e697a304d"
   },
   "cell_type": "code",
   "source": [
    "# Training the model\n",
    "for epoch in range(1, NUM_EPOCHS+1):\n",
    "    start_time = timer()\n",
    "    transformer.train()\n",
    "    train_loss = train_epoch(transformer, optimizer, train_dataloader, loss_fn)\n",
    "    end_time = timer()\n",
    "    scheduler.step(train_loss)\n",
    "    # evaluation\n",
    "    transformer.eval()\n",
    "    val_loss = evaluate(transformer, validation_dataloader, loss_fn)\n",
    "    # add save model checkpoint every 20 epochs\n",
    "    if epoch % 5 == 0:\n",
    "        torch.save({\n",
    "                'epoch': epoch,\n",
    "                'model_state_dict': transformer.state_dict(),\n",
    "                'optimizer_state_dict': optimizer.state_dict(),\n",
    "                'loss': train_loss,\n",
    "                }, f\"./checkpoints/checkpoint_{epoch}.pt\")\n",
    "    # val_loss = evaluate(transformer)\n",
    "\n",
    "    print(f\"Epoch: {epoch}, Train loss: {train_loss:.5f}, Val loss: {val_loss:.5f}, \"f\"Epoch time = {(end_time - start_time):.3f}s, lr: {scheduler.get_last_lr()}\")\n",
    "# save the model after training\n",
    "torch.save(transformer.state_dict(), \"./assets/transformer.pt\")"
   ],
   "id": "ad6623919ae0f9a8",
   "outputs": [
    {
     "output_type": "stream",
     "name": "stderr",
     "text": [
      "/usr/local/lib/python3.10/dist-packages/torch/nn/functional.py:5193: UserWarning: Support for mismatched key_padding_mask and attn_mask is deprecated. Use same type for both instead.\n",
      "  warnings.warn(\n"
     ]
    },
    {
     "output_type": "stream",
     "name": "stdout",
     "text": [
      "Epoch: 1, Train loss: 1.62429, Val loss: 0.93622, Epoch time = 201.339s, lr: [0.001]\n",
      "Epoch: 2, Train loss: 0.78052, Val loss: 0.34480, Epoch time = 200.476s, lr: [0.001]\n",
      "Epoch: 3, Train loss: 0.34372, Val loss: 0.04702, Epoch time = 200.059s, lr: [0.001]\n",
      "Epoch: 4, Train loss: 0.13985, Val loss: 0.01239, Epoch time = 199.942s, lr: [0.001]\n",
      "Epoch: 5, Train loss: 0.07132, Val loss: 0.00495, Epoch time = 200.083s, lr: [0.001]\n",
      "Epoch: 6, Train loss: 0.04995, Val loss: 0.00357, Epoch time = 199.928s, lr: [0.001]\n",
      "Epoch: 7, Train loss: 0.04093, Val loss: 0.00302, Epoch time = 199.706s, lr: [0.001]\n",
      "Epoch: 8, Train loss: 0.03551, Val loss: 0.00235, Epoch time = 200.038s, lr: [0.001]\n",
      "Epoch: 9, Train loss: 0.03179, Val loss: 0.00177, Epoch time = 199.950s, lr: [0.001]\n",
      "Epoch: 10, Train loss: 0.02919, Val loss: 0.00177, Epoch time = 199.931s, lr: [0.001]\n",
      "Epoch: 11, Train loss: 0.02691, Val loss: 0.00157, Epoch time = 199.969s, lr: [0.001]\n",
      "Epoch: 12, Train loss: 0.02483, Val loss: 0.00151, Epoch time = 200.069s, lr: [0.001]\n",
      "Epoch: 13, Train loss: 0.02299, Val loss: 0.00122, Epoch time = 200.011s, lr: [0.001]\n",
      "Epoch: 14, Train loss: 0.02150, Val loss: 0.00110, Epoch time = 199.922s, lr: [0.001]\n",
      "Epoch: 15, Train loss: 0.02041, Val loss: 0.00109, Epoch time = 199.997s, lr: [0.001]\n",
      "Epoch: 16, Train loss: 0.01946, Val loss: 0.00114, Epoch time = 200.048s, lr: [0.001]\n",
      "Epoch: 17, Train loss: 0.01870, Val loss: 0.00107, Epoch time = 200.098s, lr: [0.001]\n",
      "Epoch: 18, Train loss: 0.01797, Val loss: 0.00105, Epoch time = 200.148s, lr: [0.001]\n",
      "Epoch: 19, Train loss: 0.01736, Val loss: 0.00094, Epoch time = 200.096s, lr: [0.001]\n",
      "Epoch: 20, Train loss: 0.01660, Val loss: 0.00099, Epoch time = 200.204s, lr: [0.001]\n",
      "Epoch: 21, Train loss: 0.01595, Val loss: 0.00092, Epoch time = 199.725s, lr: [0.001]\n",
      "Epoch: 22, Train loss: 0.01560, Val loss: 0.00103, Epoch time = 199.862s, lr: [0.001]\n",
      "Epoch: 23, Train loss: 0.01517, Val loss: 0.00079, Epoch time = 200.193s, lr: [0.001]\n",
      "Epoch: 24, Train loss: 0.01467, Val loss: 0.00074, Epoch time = 199.948s, lr: [0.0001]\n",
      "Epoch: 25, Train loss: 0.00704, Val loss: 0.00021, Epoch time = 199.818s, lr: [0.0001]\n",
      "Epoch: 26, Train loss: 0.00497, Val loss: 0.00016, Epoch time = 200.129s, lr: [0.0001]\n",
      "Epoch: 27, Train loss: 0.00442, Val loss: 0.00015, Epoch time = 200.154s, lr: [0.0001]\n",
      "Epoch: 28, Train loss: 0.00415, Val loss: 0.00014, Epoch time = 200.172s, lr: [0.0001]\n",
      "Epoch: 29, Train loss: 0.00390, Val loss: 0.00013, Epoch time = 200.084s, lr: [0.0001]\n",
      "Epoch: 30, Train loss: 0.00381, Val loss: 0.00013, Epoch time = 200.085s, lr: [0.0001]\n",
      "Epoch: 31, Train loss: 0.00371, Val loss: 0.00012, Epoch time = 199.823s, lr: [0.0001]\n",
      "Epoch: 32, Train loss: 0.00362, Val loss: 0.00011, Epoch time = 200.090s, lr: [1e-05]\n",
      "Epoch: 33, Train loss: 0.00330, Val loss: 0.00010, Epoch time = 200.018s, lr: [1e-05]\n",
      "Epoch: 34, Train loss: 0.00313, Val loss: 0.00009, Epoch time = 200.070s, lr: [1e-05]\n",
      "Epoch: 35, Train loss: 0.00305, Val loss: 0.00009, Epoch time = 200.128s, lr: [1e-05]\n",
      "Epoch: 36, Train loss: 0.00304, Val loss: 0.00009, Epoch time = 199.707s, lr: [1.0000000000000002e-06]\n",
      "Epoch: 37, Train loss: 0.00296, Val loss: 0.00009, Epoch time = 200.227s, lr: [1.0000000000000002e-06]\n",
      "Epoch: 38, Train loss: 0.00296, Val loss: 0.00009, Epoch time = 200.071s, lr: [1.0000000000000002e-06]\n",
      "Epoch: 39, Train loss: 0.00299, Val loss: 0.00009, Epoch time = 200.116s, lr: [1.0000000000000002e-06]\n",
      "Epoch: 40, Train loss: 0.00293, Val loss: 0.00009, Epoch time = 199.766s, lr: [1.0000000000000002e-07]\n"
     ]
    }
   ],
   "execution_count": 16
  },
  {
   "metadata": {},
   "cell_type": "markdown",
   "source": "## Model Evaluation",
   "id": "288a2b3d98795b5a"
  },
  {
   "metadata": {},
   "cell_type": "markdown",
   "source": "### Human Evaluation",
   "id": "6615dcadfb01a88b"
  },
  {
   "metadata": {
    "id": "16c31b16364b95ce",
    "ExecuteTime": {
     "end_time": "2024-09-28T19:10:00.716731Z",
     "start_time": "2024-09-28T19:10:00.711004Z"
    }
   },
   "cell_type": "code",
   "source": [
    "# generating the validation indices for evaluation - using the same seed to get the same samples\n",
    "train_idx, val_idx = random_split(range(len(h2j_dataset)), [0.8, 0.2], torch.Generator().manual_seed(42))"
   ],
   "id": "16c31b16364b95ce",
   "outputs": [],
   "execution_count": 21
  },
  {
   "metadata": {},
   "cell_type": "code",
   "outputs": [],
   "execution_count": null,
   "source": "#### Change the sample_num to evaluate a different sample",
   "id": "4aa57e22137d579"
  },
  {
   "metadata": {
    "id": "6e21b4f99e1e6af6",
    "ExecuteTime": {
     "end_time": "2024-09-28T19:10:01.593124Z",
     "start_time": "2024-09-28T19:10:01.588758Z"
    }
   },
   "cell_type": "code",
   "source": [
    "sample_num = 0\n",
    "idx = val_idx[sample_num]\n",
    "html_idx = html_data_str[idx]"
   ],
   "id": "6e21b4f99e1e6af6",
   "outputs": [],
   "execution_count": 22
  },
  {
   "metadata": {},
   "cell_type": "markdown",
   "source": "### Greedy Search Translation",
   "id": "b4672fef6ffbaa3f"
  },
  {
   "metadata": {
    "id": "8b7f5f3b7dc002a4",
    "ExecuteTime": {
     "end_time": "2024-09-28T20:33:45.757314Z",
     "start_time": "2024-09-28T20:33:44.651556Z"
    }
   },
   "cell_type": "code",
   "source": [
    "# Translating the HTML to JSON using greedy search\n",
    "pred_greedy = translate_greedy_search(transformer, html_idx, html_tokenizer, json_tokenizer)"
   ],
   "id": "8b7f5f3b7dc002a4",
   "outputs": [],
   "execution_count": 28
  },
  {
   "metadata": {
    "colab": {
     "base_uri": "https://localhost:8080/",
     "height": 87
    },
    "id": "2a68e0cb6da7e719",
    "outputId": "c2aa5546-f826-41ca-8e60-b59e4aa95adc",
    "ExecuteTime": {
     "end_time": "2024-09-28T18:57:15.912850Z",
     "start_time": "2024-09-28T18:57:15.907357Z"
    }
   },
   "cell_type": "code",
   "source": [
    "# displaying the original JSON (preprocessed)\n",
    "json_data_str[idx]"
   ],
   "id": "2a68e0cb6da7e719",
   "outputs": [
    {
     "data": {
      "text/plain": [
       "'[{][\"body\"][:][{][\"content\"][:][[]\"648\"[,]\"836%\"[,]\"88\"[,]\"737\"[,]\"928%\"[,]\"692%\"[,]\"445\"[]][,][\"headers\"][:][{][\"col\"][:][[]\"Freeman-Guerra\"[,]\"Harper-Wells\"[,]\"Johnson, Lewis and Harrington\"[,]\"Burton-Tran\"[,]\"Johnson and Sons\"[,]\"Campbell, Smith and Wilson\"[,]\"Thomas, Kelly and Griffin\"[]][,][\"row\"][:][[]\"April Lee\"[]][}][}][,][\"footer\"][:][{][\"table_creation_date:\"][:]\"28Jul2009\"[,][\"text\"][:]\"Creation: 28Jul2009 Nigeria\"[}][,][\"header\"][:][{][\"table_id\"][:]\"45.41\"[,][\"text\"][:]\"Table 45.41 Interpreter\"[}][}]'"
      ]
     },
     "execution_count": 15,
     "metadata": {},
     "output_type": "execute_result"
    }
   ],
   "execution_count": 15
  },
  {
   "metadata": {
    "colab": {
     "base_uri": "https://localhost:8080/",
     "height": 87
    },
    "id": "4679ba9464bc240d",
    "outputId": "dc6f0397-b193-4f5f-ce32-325914a07f6b",
    "ExecuteTime": {
     "end_time": "2024-09-28T18:57:15.919005Z",
     "start_time": "2024-09-28T18:57:15.912850Z"
    }
   },
   "cell_type": "code",
   "source": [
    "# displaying the predicted JSON (preprocessed)\n",
    "pred_greedy[5:-5]"
   ],
   "id": "4679ba9464bc240d",
   "outputs": [
    {
     "data": {
      "text/plain": [
       "'[{][\"body\"][:][{][\"content\"][:][[]\"648\"[,]\"836%\"[,]\"88\"[,]\"737\"[,]\"928%\"[,]\"692%\"[,]\"445\"[]][,][\"headers\"][:][{][\"col\"][:][[]\"Freeman-Guerra\"[,]\"Harper-Wells\"[,]\"Johnson, Lewis and Harrington\"[,]\"Burton-Tran\"[,]\"Johnson and Sons\"[,]\"Campbell, Smith and Wilson\"[,]\"Thomas, Kelly and Griffin\"[]][,][\"row\"][:][[]\"April Lee\"[]][}][}][,][\"footer\"][:][{][\"table_creation_date:\"][:]\"28Jul2009\"[,][\"text\"][:]\"Creation: 28Jul2009 Nigeria\"[}][,][\"header\"][:][{][\"table_id\"][:]\"45.41\"[,][\"text\"][:]\"Table 45.41 Interpreter\"[}][}]'"
      ]
     },
     "execution_count": 16,
     "metadata": {},
     "output_type": "execute_result"
    }
   ],
   "execution_count": 16
  },
  {
   "metadata": {
    "colab": {
     "base_uri": "https://localhost:8080/"
    },
    "id": "6ff7f7c86c843ec",
    "outputId": "a8ecdd41-5390-4eb9-ea8f-14f83299e1a0",
    "ExecuteTime": {
     "end_time": "2024-09-28T18:57:15.923696Z",
     "start_time": "2024-09-28T18:57:15.920016Z"
    }
   },
   "cell_type": "code",
   "source": [
    "# Checking if the predicted JSON is the same as the original JSON\n",
    "pred_greedy[5:-5] == json_data_str[idx]"
   ],
   "id": "6ff7f7c86c843ec",
   "outputs": [
    {
     "data": {
      "text/plain": [
       "True"
      ]
     },
     "execution_count": 17,
     "metadata": {},
     "output_type": "execute_result"
    }
   ],
   "execution_count": 17
  },
  {
   "metadata": {
    "ExecuteTime": {
     "end_time": "2024-09-28T18:57:15.930340Z",
     "start_time": "2024-09-28T18:57:15.923696Z"
    }
   },
   "cell_type": "code",
   "source": [
    "# Reversing the tokenized JSON to get the original JSON object\n",
    "json_pred_greedy = reverse_tokenized_json(pred_greedy, json_tokenizer)\n",
    "json_pred_greedy"
   ],
   "id": "af3b9b448db29ce3",
   "outputs": [
    {
     "data": {
      "text/plain": [
       "{'body': {'content': ['648', '836%', '88', '737', '928%', '692%', '445'],\n",
       "  'headers': {'col': ['Freeman-Guerra',\n",
       "    'Harper-Wells',\n",
       "    'Johnson, Lewis and Harrington',\n",
       "    'Burton-Tran',\n",
       "    'Johnson and Sons',\n",
       "    'Campbell, Smith and Wilson',\n",
       "    'Thomas, Kelly and Griffin'],\n",
       "   'row': ['April Lee']}},\n",
       " 'footer': {'table_creation_date:': '28Jul2009',\n",
       "  'text': 'Creation: 28Jul2009 Nigeria'},\n",
       " 'header': {'table_id': '45.41', 'text': 'Table 45.41 Interpreter'}}"
      ]
     },
     "execution_count": 18,
     "metadata": {},
     "output_type": "execute_result"
    }
   ],
   "execution_count": 18
  },
  {
   "metadata": {},
   "cell_type": "markdown",
   "source": "### Beam Search Translation",
   "id": "ea8eb37a6c3bdc81"
  },
  {
   "metadata": {
    "colab": {
     "base_uri": "https://localhost:8080/",
     "height": 321
    },
    "id": "51b3c0c9c4a86813",
    "outputId": "e58f4cb9-b416-4d6c-f663-9b6c0e0e10c2",
    "ExecuteTime": {
     "end_time": "2024-09-28T20:34:29.667182Z",
     "start_time": "2024-09-28T20:33:55.510515Z"
    }
   },
   "cell_type": "code",
   "source": [
    "# Translating the HTML to JSON using beam search\n",
    "pred_beam = translate_beam_search(transformer, html_idx, html_tokenizer, json_tokenizer)"
   ],
   "id": "51b3c0c9c4a86813",
   "outputs": [],
   "execution_count": 29
  },
  {
   "metadata": {
    "ExecuteTime": {
     "end_time": "2024-09-28T20:36:35.307620Z",
     "start_time": "2024-09-28T20:36:35.301274Z"
    }
   },
   "cell_type": "code",
   "source": [
    "# displaying the original JSON (preprocessed)\n",
    "json_data_str[idx]"
   ],
   "id": "a556514b9b3ec88f",
   "outputs": [
    {
     "data": {
      "text/plain": [
       "'[{][\"body\"][:][{][\"content\"][:][[]\"648\"[,]\"836%\"[,]\"88\"[,]\"737\"[,]\"928%\"[,]\"692%\"[,]\"445\"[]][,][\"headers\"][:][{][\"col\"][:][[]\"Freeman-Guerra\"[,]\"Harper-Wells\"[,]\"Johnson, Lewis and Harrington\"[,]\"Burton-Tran\"[,]\"Johnson and Sons\"[,]\"Campbell, Smith and Wilson\"[,]\"Thomas, Kelly and Griffin\"[]][,][\"row\"][:][[]\"April Lee\"[]][}][}][,][\"footer\"][:][{][\"table_creation_date:\"][:]\"28Jul2009\"[,][\"text\"][:]\"Creation: 28Jul2009 Nigeria\"[}][,][\"header\"][:][{][\"table_id\"][:]\"45.41\"[,][\"text\"][:]\"Table 45.41 Interpreter\"[}][}]'"
      ]
     },
     "execution_count": 30,
     "metadata": {},
     "output_type": "execute_result"
    }
   ],
   "execution_count": 30
  },
  {
   "metadata": {
    "ExecuteTime": {
     "end_time": "2024-09-28T20:36:36.233238Z",
     "start_time": "2024-09-28T20:36:36.227648Z"
    }
   },
   "cell_type": "code",
   "source": [
    "# displaying the predicted JSON (preprocessed)\n",
    "pred_beam[5:-5]"
   ],
   "id": "957540e312c81e37",
   "outputs": [
    {
     "data": {
      "text/plain": [
       "'[{][\"body\"][:][{][\"content\"][:][[]\"648\"[,]\"836%\"[,]\"88\"[,]\"737\"[,]\"928%\"[,]\"692%\"[,]\"445\"[]][,][\"headers\"][:][{][\"col\"][:][[]\"Freeman-Guerra\"[,]\"Harper-Wells\"[,]\"Johnson, Lewis and Harrington\"[,]\"Burton-Tran\"[,]\"Johnson and Sons\"[,]\"Campbell, Smith and Wilson\"[,]\"Thomas, Kelly and Griffin\"[]][,][\"row\"][:][[]\"April Lee\"[]][}][}][,][\"footer\"][:][{][\"table_creation_date:\"][:]\"28Jul2009\"[,][\"text\"][:]\"Creation: 28Jul2009 Nigeria\"[}][,][\"header\"][:][{][\"table_id\"][:]\"45.41\"[,][\"text\"][:]\"Table 45.41 Interpreter\"[}][}]'"
      ]
     },
     "execution_count": 31,
     "metadata": {},
     "output_type": "execute_result"
    }
   ],
   "execution_count": 31
  },
  {
   "metadata": {
    "ExecuteTime": {
     "end_time": "2024-09-28T20:36:38.103345Z",
     "start_time": "2024-09-28T20:36:38.096349Z"
    }
   },
   "cell_type": "code",
   "source": [
    "# checking if the predicted JSON is the same as the original JSON\n",
    "pred_beam[5:-5] == json_data_str[idx]"
   ],
   "id": "8fff4d86ebc5a4e0",
   "outputs": [
    {
     "data": {
      "text/plain": [
       "True"
      ]
     },
     "execution_count": 32,
     "metadata": {},
     "output_type": "execute_result"
    }
   ],
   "execution_count": 32
  },
  {
   "metadata": {
    "ExecuteTime": {
     "end_time": "2024-09-28T19:07:49.481310Z",
     "start_time": "2024-09-28T19:07:49.474438Z"
    }
   },
   "cell_type": "code",
   "source": [
    "# Reversing the tokenized JSON to get the original JSON object\n",
    "json_pred_beam = reverse_tokenized_json(pred_beam, json_tokenizer)\n",
    "json_pred_beam"
   ],
   "id": "97c190726807959e",
   "outputs": [
    {
     "data": {
      "text/plain": [
       "{'body': {'content': ['648', '836%', '88', '737', '928%', '692%', '445'],\n",
       "  'headers': {'col': ['Freeman-Guerra',\n",
       "    'Harper-Wells',\n",
       "    'Johnson, Lewis and Harrington',\n",
       "    'Burton-Tran',\n",
       "    'Johnson and Sons',\n",
       "    'Campbell, Smith and Wilson',\n",
       "    'Thomas, Kelly and Griffin'],\n",
       "   'row': ['April Lee']}},\n",
       " 'footer': {'table_creation_date:': '28Jul2009',\n",
       "  'text': 'Creation: 28Jul2009 Nigeria'},\n",
       " 'header': {'table_id': '45.41', 'text': 'Table 45.41 Interpreter'}}"
      ]
     },
     "execution_count": 18,
     "metadata": {},
     "output_type": "execute_result"
    }
   ],
   "execution_count": 18
  },
  {
   "metadata": {},
   "cell_type": "markdown",
   "source": "### BLEU Score Evaluation",
   "id": "375e8507a17ad045"
  },
  {
   "metadata": {
    "id": "ef9c0aa5745083b5",
    "outputId": "7d3d0377-0b9c-42f8-a7a0-2c170c5c8685",
    "ExecuteTime": {
     "end_time": "2024-09-28T19:07:57.978343Z",
     "start_time": "2024-09-28T19:07:51.396493Z"
    }
   },
   "cell_type": "code",
   "source": [
    "bleu = load(\"bleu\")"
   ],
   "id": "ef9c0aa5745083b5",
   "outputs": [],
   "execution_count": 19
  },
  {
   "metadata": {
    "id": "ef359151411c3c35",
    "ExecuteTime": {
     "end_time": "2024-09-28T19:18:30.061356Z",
     "start_time": "2024-09-28T19:10:23.646843Z"
    }
   },
   "cell_type": "code",
   "source": [
    "samples_to_evaluate = 100\n",
    "predictions = [translate_beam_search(transformer, html_data_str[idx], html_tokenizer, json_tokenizer) for i, idx in enumerate(val_idx) if i <= samples_to_evaluate]\n",
    "references = [json_data_str[idx] for i, idx in enumerate(val_idx) if i <= samples_to_evaluate]"
   ],
   "id": "ef359151411c3c35",
   "outputs": [],
   "execution_count": 24
  },
  {
   "metadata": {
    "colab": {
     "referenced_widgets": [
      "363361f63b024bc598cdb9152a68e2cf",
      "f7b5f8ee70a44c4ab474e46c122cd44d",
      "8fdd67a13f1e415f9991f63d16dab3b0"
     ]
    },
    "id": "a4a009a075a2a69",
    "outputId": "0e45145f-7e9f-4151-9a11-90d27a0e6255",
    "ExecuteTime": {
     "end_time": "2024-09-28T19:24:39.559962Z",
     "start_time": "2024-09-28T19:24:39.502854Z"
    }
   },
   "cell_type": "code",
   "source": [
    "bleu.compute(predictions=predictions, references=references)"
   ],
   "id": "a4a009a075a2a69",
   "outputs": [
    {
     "data": {
      "text/plain": [
       "{'bleu': 0.9840250297524256,\n",
       " 'precisions': [0.9840887174541948,\n",
       "  0.9840464104423495,\n",
       "  0.9840038778477945,\n",
       "  0.9839611178614823],\n",
       " 'brevity_penalty': 1.0,\n",
       " 'length_ratio': 1.0161685448309652,\n",
       " 'translation_length': 4148,\n",
       " 'reference_length': 4082}"
      ]
     },
     "execution_count": 25,
     "metadata": {},
     "output_type": "execute_result"
    }
   ],
   "execution_count": 25
  }
 ],
 "metadata": {
  "kernelspec": {
   "display_name": "Python 3 (ipykernel)",
   "name": "python3",
   "language": "python"
  },
  "language_info": {
   "codemirror_mode": {
    "name": "ipython",
    "version": 2
   },
   "file_extension": ".py",
   "mimetype": "text/x-python",
   "name": "python",
   "nbconvert_exporter": "python",
   "pygments_lexer": "ipython2",
   "version": "2.7.6"
  },
  "colab": {
   "provenance": [],
   "gpuType": "L4"
  },
  "accelerator": "GPU"
 },
 "nbformat": 4,
 "nbformat_minor": 5
}
